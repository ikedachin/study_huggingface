{
  "cells": [
    {
      "cell_type": "markdown",
      "metadata": {
        "id": "view-in-github",
        "colab_type": "text"
      },
      "source": [
        "<a href=\"https://colab.research.google.com/github/ikedachin/study_huggingface/blob/main/phi_15_colab.ipynb\" target=\"_parent\"><img src=\"https://colab.research.google.com/assets/colab-badge.svg\" alt=\"Open In Colab\"/></a>"
      ]
    },
    {
      "cell_type": "markdown",
      "metadata": {
        "id": "xhO0XaHYEIzI"
      },
      "source": [
        "# HuggingfaceからMicrosoftのPhi-1.5を使ってみよう\n",
        "\n",
        "https://huggingface.co/microsoft/phi-1_5"
      ]
    },
    {
      "cell_type": "code",
      "execution_count": null,
      "metadata": {
        "id": "EKw6o-qUEcI9"
      },
      "outputs": [],
      "source": [
        "!pip install -q huggingface_hub\n",
        "!pip install -q transformers[torch]==4.42.3\n",
        "!pip install -q datasets==2.20.0\n",
        "!pip install -q accelerate==0.32.1\n",
        "!pip install -q ipywidgets"
      ]
    },
    {
      "cell_type": "markdown",
      "metadata": {
        "id": "wMZtTkkAEIzK"
      },
      "source": [
        "# #01 ライブラリのインポート"
      ]
    },
    {
      "cell_type": "code",
      "execution_count": null,
      "metadata": {
        "id": "bodipJRlEIzK"
      },
      "outputs": [],
      "source": [
        "import torch\n",
        "from transformers import AutoModelForCausalLM, AutoTokenizer\n"
      ]
    },
    {
      "cell_type": "markdown",
      "metadata": {
        "id": "7Qt0PdQREIzL"
      },
      "source": [
        "# #02 GPU / MPS / CPUの選択"
      ]
    },
    {
      "cell_type": "code",
      "execution_count": null,
      "metadata": {
        "id": "d5g2NakqEIzL"
      },
      "outputs": [],
      "source": [
        "if torch.cuda.is_available():\n",
        "    device = 'cuda'\n",
        "elif torch.backends.mps.is_available():\n",
        "    device = 'mps'\n",
        "else:\n",
        "    device = 'cpu'\n",
        "device"
      ]
    },
    {
      "cell_type": "markdown",
      "metadata": {
        "id": "J1ywCJfNEIzL"
      },
      "source": [
        "# #03 トークナイザーとモデルのダウンロード"
      ]
    },
    {
      "cell_type": "code",
      "execution_count": null,
      "metadata": {
        "id": "fb0_t13MEIzL"
      },
      "outputs": [],
      "source": [
        "torch.set_default_device(device)\n",
        "\n",
        "model = AutoModelForCausalLM.from_pretrained(\"microsoft/phi-1_5\", torch_dtype=\"auto\")\n",
        "tokenizer = AutoTokenizer.from_pretrained(\"microsoft/phi-1_5\")"
      ]
    },
    {
      "cell_type": "code",
      "execution_count": null,
      "metadata": {
        "id": "LckG78-8kH9C"
      },
      "outputs": [],
      "source": [
        "# トークナイザの語彙数を確認する\n",
        "tokenizer.vocab_size"
      ]
    },
    {
      "cell_type": "code",
      "execution_count": null,
      "metadata": {
        "id": "FvkgieIFkUL3"
      },
      "outputs": [],
      "source": [
        "# モデルの構造を見てみる\n",
        "model.base_model\n"
      ]
    },
    {
      "cell_type": "markdown",
      "metadata": {
        "id": "QbGj3_ypEIzL"
      },
      "source": [
        "# #04 出力を確認しながら推論させてみよう\n",
        "## #04-1 トークナイザーを使って、文章をトークンIDに変換する"
      ]
    },
    {
      "cell_type": "code",
      "execution_count": null,
      "metadata": {
        "id": "h_R0IECfEIzM"
      },
      "outputs": [],
      "source": [
        "input_text = 'please tell me how to play a fiddle.'"
      ]
    },
    {
      "cell_type": "code",
      "execution_count": null,
      "metadata": {
        "id": "CCQvu4PLEIzM"
      },
      "outputs": [],
      "source": [
        "inputs = tokenizer(input_text, return_tensors=\"pt\", return_attention_mask=False)\n",
        "inputs"
      ]
    },
    {
      "cell_type": "code",
      "execution_count": null,
      "metadata": {
        "id": "rzFFJFcQEIzM"
      },
      "outputs": [],
      "source": [
        "inputs.input_ids[0]"
      ]
    },
    {
      "cell_type": "markdown",
      "metadata": {
        "id": "pCCDVXyMEIzM"
      },
      "source": [
        "## #04-2 トークンIDを文章に戻す方法を確認"
      ]
    },
    {
      "cell_type": "code",
      "execution_count": null,
      "metadata": {
        "id": "7Wwxv7HQEIzM"
      },
      "outputs": [],
      "source": [
        "tokenizer.decode(inputs.input_ids[0])"
      ]
    },
    {
      "cell_type": "markdown",
      "metadata": {
        "id": "UePBPTJGEIzM"
      },
      "source": [
        "## #04-3 Phi-1.5モデルに入力トークンIDを渡して出力させよう"
      ]
    },
    {
      "cell_type": "code",
      "execution_count": null,
      "metadata": {
        "id": "AKhwVLIvEIzM"
      },
      "outputs": [],
      "source": [
        "outputs = model.generate(inputs.input_ids, max_length=200)\n",
        "# outputs = model.generate(**inputs, max_length=200) # <- こちらの書き方でもOK\n",
        "outputs"
      ]
    },
    {
      "cell_type": "code",
      "execution_count": null,
      "metadata": {
        "id": "KirDn1cSOe1X"
      },
      "outputs": [],
      "source": [
        "outputs.size()"
      ]
    },
    {
      "cell_type": "markdown",
      "metadata": {
        "id": "ZySPTX9sEIzN"
      },
      "source": [
        "## #04-4 モデルから出てきたトークンIDを文章に戻す"
      ]
    },
    {
      "cell_type": "code",
      "execution_count": null,
      "metadata": {
        "id": "gTUMkVqnEIzN"
      },
      "outputs": [],
      "source": [
        "output_text = tokenizer.batch_decode(outputs)[0]\n",
        "print(output_text)\n"
      ]
    },
    {
      "cell_type": "markdown",
      "metadata": {
        "id": "L0aUivzpEIzN"
      },
      "source": [
        "# #05 DXクエストについて聞いてみよう"
      ]
    },
    {
      "cell_type": "code",
      "execution_count": null,
      "metadata": {
        "id": "nDEX7X1hEIzN"
      },
      "outputs": [],
      "source": [
        "input_text = 'Please tell me about manabi-DX-Quest.'"
      ]
    },
    {
      "cell_type": "code",
      "execution_count": null,
      "metadata": {
        "id": "OBqJyR6aEIzN"
      },
      "outputs": [],
      "source": [
        "inputs = tokenizer(input_text, return_tensors=\"pt\", return_attention_mask=False)\n",
        "outputs = model.generate(inputs.input_ids, max_length=200)\n",
        "output_text = tokenizer.batch_decode(outputs)[0]\n",
        "print(output_text)"
      ]
    },
    {
      "cell_type": "markdown",
      "metadata": {
        "id": "WjSjNm2VEIzN"
      },
      "source": [
        "# #06 プログラムを書かせてみよう"
      ]
    },
    {
      "cell_type": "markdown",
      "metadata": {
        "id": "Os5X2NqQEIzN"
      },
      "source": [
        "## #06-1 Pythonの関数の書き方のおさらい"
      ]
    },
    {
      "cell_type": "code",
      "execution_count": null,
      "metadata": {
        "id": "pMqxaaatEIzN"
      },
      "outputs": [],
      "source": [
        "# まず、関数の例\n",
        "def add_num(a, b):\n",
        "    '''引数の二つの値を足す。   <- Docstringsという\n",
        "    '''\n",
        "    c = a + b\n",
        "    return c\n"
      ]
    },
    {
      "cell_type": "code",
      "execution_count": null,
      "metadata": {
        "id": "m1xPLEKYEIzN"
      },
      "outputs": [],
      "source": [
        "added_number = add_num(4, 5)\n",
        "added_number"
      ]
    },
    {
      "cell_type": "code",
      "execution_count": null,
      "metadata": {
        "id": "wqGL9e7VEIzN"
      },
      "outputs": [],
      "source": [
        "# 1からnまでの数字で素数をプリントする関数\n",
        "\n",
        "text = '''\n",
        "def print_prime(n):\n",
        "    \"\"\"Print all primes between 1 and n\n",
        "    \"\"\"\n",
        "'''"
      ]
    },
    {
      "cell_type": "code",
      "execution_count": null,
      "metadata": {
        "id": "m-XF8dxCEIzO"
      },
      "outputs": [],
      "source": [
        "# # a/bをした時に整数ならinteger、小数点があるならfloatと返す関数\n",
        "# text = '''\n",
        "# def check_division_type(a, b):\n",
        "#     \"\"\"When performing a/b, return \"integer\" if the result is an integer, and \"float\" if the result has a decimal point.\n",
        "#     \"\"\"\n",
        "# '''"
      ]
    },
    {
      "cell_type": "code",
      "execution_count": null,
      "metadata": {
        "id": "5-m1sqcGEIzO"
      },
      "outputs": [],
      "source": [
        "inputs = tokenizer(text, return_tensors='pt', return_attention_mask=False)\n",
        "outputs = model.generate(inputs.input_ids, max_length=400)\n",
        "text = tokenizer.batch_decode(outputs)[0]\n",
        "print(text)"
      ]
    },
    {
      "cell_type": "code",
      "execution_count": null,
      "metadata": {
        "id": "xyiwanHVF9oq"
      },
      "outputs": [],
      "source": [
        "# 出力をコピーして実行してみる"
      ]
    },
    {
      "cell_type": "code",
      "execution_count": null,
      "metadata": {
        "id": "DEJmx00qqXzu"
      },
      "outputs": [],
      "source": []
    },
    {
      "cell_type": "markdown",
      "metadata": {
        "id": "mF9ab33uEIzO"
      },
      "source": [
        "# #07 ファインチューニングに向けて\n",
        "## #07-1 モデルの設定を確認する"
      ]
    },
    {
      "cell_type": "code",
      "execution_count": null,
      "metadata": {
        "id": "7OW7bFjzEIzO"
      },
      "outputs": [],
      "source": [
        "from transformers import AutoConfig\n",
        "\n",
        "phi15_config = AutoConfig.from_pretrained(\"microsoft/phi-1_5\")\n",
        "phi15_config"
      ]
    },
    {
      "cell_type": "markdown",
      "source": [
        "## #07-2 datasetを使ってみる"
      ],
      "metadata": {
        "id": "iYQZUTMByLSn"
      }
    },
    {
      "cell_type": "code",
      "source": [
        "from datasets import load_dataset"
      ],
      "metadata": {
        "id": "D1ZQae8oyKp9"
      },
      "execution_count": null,
      "outputs": []
    },
    {
      "cell_type": "code",
      "source": [
        "dataset = load_dataset('ag_news')"
      ],
      "metadata": {
        "id": "nNJTS4zOyZoh"
      },
      "execution_count": null,
      "outputs": []
    },
    {
      "cell_type": "code",
      "source": [
        "dataset"
      ],
      "metadata": {
        "id": "fKgHqHVIyblA"
      },
      "execution_count": null,
      "outputs": []
    },
    {
      "cell_type": "code",
      "source": [
        "dataset['train']['text']"
      ],
      "metadata": {
        "id": "diFv66N6yeDX"
      },
      "execution_count": null,
      "outputs": []
    },
    {
      "cell_type": "code",
      "source": [
        "dataset['train']['label']"
      ],
      "metadata": {
        "id": "4cs65mMlygyW"
      },
      "execution_count": null,
      "outputs": []
    },
    {
      "cell_type": "markdown",
      "source": [
        "### #07-2-1 最初の100データだけを抜き取る"
      ],
      "metadata": {
        "id": "lemQUIGjynqs"
      }
    },
    {
      "cell_type": "code",
      "source": [
        "dataset['train'] = dataset['train'].select(range(100))\n",
        "len(dataset['train']['text'])"
      ],
      "metadata": {
        "id": "TfsVZLr_yi6h"
      },
      "execution_count": null,
      "outputs": []
    },
    {
      "cell_type": "markdown",
      "source": [
        "### #07-2-2 便利なmap関数"
      ],
      "metadata": {
        "id": "Dri8SPZoy0dc"
      }
    },
    {
      "cell_type": "code",
      "source": [
        "tokenizer.add_special_tokens({'pad_token': '[PAD]'})"
      ],
      "metadata": {
        "id": "23wi3TWK1qSB"
      },
      "execution_count": null,
      "outputs": []
    },
    {
      "cell_type": "code",
      "source": [
        "# 関数を容易する\n",
        "def tokenizer_func(example):\n",
        "    return tokenizer(example['text'], padding=True, truncation=True)"
      ],
      "metadata": {
        "id": "_v4LavpHy6Cu"
      },
      "execution_count": null,
      "outputs": []
    },
    {
      "cell_type": "code",
      "source": [
        "pretreated_dataset = dataset.map(tokenizer_func, batched=True)\n",
        "pretreated_dataset"
      ],
      "metadata": {
        "id": "cmmX9aO2y_Ue"
      },
      "execution_count": null,
      "outputs": []
    },
    {
      "cell_type": "code",
      "source": [
        "# 最初の一つだけ見てみる\n",
        "pretreated_dataset_0 =pretreated_dataset['train'][0]\n",
        "pretreated_dataset_0"
      ],
      "metadata": {
        "id": "WTYcjZBVzCBZ"
      },
      "execution_count": null,
      "outputs": []
    },
    {
      "cell_type": "code",
      "source": [
        "pretreated_dataset_0['text']"
      ],
      "metadata": {
        "id": "hIu8Q5JYzKQc"
      },
      "execution_count": null,
      "outputs": []
    },
    {
      "cell_type": "code",
      "source": [
        "pretreated_dataset_0['input_ids']"
      ],
      "metadata": {
        "id": "cQHsk4NazLAG"
      },
      "execution_count": null,
      "outputs": []
    },
    {
      "cell_type": "code",
      "source": [
        "pretreated_dataset_0['attention_mask']"
      ],
      "metadata": {
        "id": "rkPUeBRezM6A"
      },
      "execution_count": null,
      "outputs": []
    },
    {
      "cell_type": "markdown",
      "metadata": {
        "id": "HS4kJI6YEIzO"
      },
      "source": [
        "## #07-3 データセットのストリーミング"
      ]
    },
    {
      "cell_type": "code",
      "source": [
        "import datasets\n",
        "from datasets import load_dataset"
      ],
      "metadata": {
        "id": "Ykfk5oanzP0N"
      },
      "execution_count": null,
      "outputs": []
    },
    {
      "cell_type": "code",
      "source": [
        "# その1\n",
        "dataset = load_dataset('oscar-corpus/OSCAR-2201', 'en', split='train', streaming=True)"
      ],
      "metadata": {
        "id": "cceo4LTGzlld"
      },
      "execution_count": null,
      "outputs": []
    },
    {
      "cell_type": "code",
      "source": [
        "for d in dataset:\n",
        "    print(d) # prints documents"
      ],
      "metadata": {
        "id": "a1gtk5zJzoGn"
      },
      "execution_count": null,
      "outputs": []
    },
    {
      "cell_type": "code",
      "execution_count": null,
      "metadata": {
        "id": "IqNglPutEIzO"
      },
      "outputs": [],
      "source": [
        "# その2\n",
        "dataset = load_dataset(\"oscar-corpus/OSCAR-2201\",\n",
        "                        # use_auth_token=True, # required\n",
        "                        language=\"ar\",\n",
        "                        streaming=True, # optional\n",
        "                        split=\"train\", # optional, but the dataset only has a train split\n",
        "                        trust_remote_code=True)\n",
        "\n",
        "\n"
      ]
    },
    {
      "cell_type": "code",
      "source": [
        "for d in dataset:\n",
        "    print(d) # prints documents"
      ],
      "metadata": {
        "id": "1nHMmr5V0DFJ"
      },
      "execution_count": null,
      "outputs": []
    },
    {
      "cell_type": "markdown",
      "metadata": {
        "id": "wJcijN1dEIzg"
      },
      "source": [
        "# #08 参考：HuggingFaceへのログイン\n",
        "モデルやデータセットをアップロードするにはログインが必要"
      ]
    },
    {
      "cell_type": "code",
      "execution_count": null,
      "metadata": {
        "id": "r73YuEoWGAY6"
      },
      "outputs": [],
      "source": [
        "from huggingface_hub import notebook_login\n",
        "notebook_login()"
      ]
    },
    {
      "cell_type": "code",
      "execution_count": null,
      "metadata": {
        "id": "fkNHeshOEIzg"
      },
      "outputs": [],
      "source": [
        "# コマンドラインでの実行方法\n",
        "# huggingface-cli login"
      ]
    }
  ],
  "metadata": {
    "accelerator": "GPU",
    "colab": {
      "gpuType": "T4",
      "toc_visible": true,
      "provenance": [],
      "include_colab_link": true
    },
    "kernelspec": {
      "display_name": "Python 3",
      "name": "python3"
    },
    "language_info": {
      "codemirror_mode": {
        "name": "ipython",
        "version": 3
      },
      "file_extension": ".py",
      "mimetype": "text/x-python",
      "name": "python",
      "nbconvert_exporter": "python",
      "pygments_lexer": "ipython3",
      "version": "3.10.8"
    }
  },
  "nbformat": 4,
  "nbformat_minor": 0
}