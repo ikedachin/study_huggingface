{
 "cells": [
  {
   "cell_type": "markdown",
   "metadata": {},
   "source": [
    "# HuggingfaceからMicrosoftのPhi-1.5を使ってみよう\n",
    "\n",
    "https://huggingface.co/microsoft/phi-1_5"
   ]
  },
  {
   "cell_type": "markdown",
   "metadata": {},
   "source": [
    "### Google Colab\n",
    "https://drive.google.com/file/d/1UwTu5I6HW1mOnxMZmVPgvofrlB_zv35q/view?usp=sharing\n"
   ]
  },
  {
   "cell_type": "code",
   "execution_count": 1,
   "metadata": {},
   "outputs": [],
   "source": [
    "import torch\n",
    "from transformers import AutoModelForCausalLM, AutoTokenizer\n"
   ]
  },
  {
   "cell_type": "code",
   "execution_count": 25,
   "metadata": {},
   "outputs": [
    {
     "data": {
      "text/plain": [
       "'mps'"
      ]
     },
     "execution_count": 25,
     "metadata": {},
     "output_type": "execute_result"
    }
   ],
   "source": [
    "if torch.cuda.is_available():\n",
    "    device = 'cuda'\n",
    "elif torch.backends.mps.is_available():\n",
    "    device = 'mps'\n",
    "else:\n",
    "    device = 'cpu'\n",
    "device"
   ]
  },
  {
   "cell_type": "code",
   "execution_count": 40,
   "metadata": {},
   "outputs": [
    {
     "data": {
      "application/vnd.jupyter.widget-view+json": {
       "model_id": "7fae2ebe6f1a46d7822d4dfbd7cf8374",
       "version_major": 2,
       "version_minor": 0
      },
      "text/plain": [
       "config.json:   0%|          | 0.00/736 [00:00<?, ?B/s]"
      ]
     },
     "metadata": {},
     "output_type": "display_data"
    },
    {
     "data": {
      "application/vnd.jupyter.widget-view+json": {
       "model_id": "b041331a43db4b6385d0f5a22911fb2b",
       "version_major": 2,
       "version_minor": 0
      },
      "text/plain": [
       "model.safetensors:   0%|          | 0.00/2.84G [00:00<?, ?B/s]"
      ]
     },
     "metadata": {},
     "output_type": "display_data"
    },
    {
     "data": {
      "application/vnd.jupyter.widget-view+json": {
       "model_id": "d305776958fa4bd38271a3149068cc2a",
       "version_major": 2,
       "version_minor": 0
      },
      "text/plain": [
       "generation_config.json:   0%|          | 0.00/74.0 [00:00<?, ?B/s]"
      ]
     },
     "metadata": {},
     "output_type": "display_data"
    },
    {
     "data": {
      "application/vnd.jupyter.widget-view+json": {
       "model_id": "b73c83d00cdd4e28a5f6246e537259f4",
       "version_major": 2,
       "version_minor": 0
      },
      "text/plain": [
       "tokenizer_config.json:   0%|          | 0.00/237 [00:00<?, ?B/s]"
      ]
     },
     "metadata": {},
     "output_type": "display_data"
    },
    {
     "data": {
      "application/vnd.jupyter.widget-view+json": {
       "model_id": "16532274594b410982b6c7e2725000d1",
       "version_major": 2,
       "version_minor": 0
      },
      "text/plain": [
       "vocab.json:   0%|          | 0.00/798k [00:00<?, ?B/s]"
      ]
     },
     "metadata": {},
     "output_type": "display_data"
    },
    {
     "data": {
      "application/vnd.jupyter.widget-view+json": {
       "model_id": "fee5bfefa0554f9b9358432c6471142a",
       "version_major": 2,
       "version_minor": 0
      },
      "text/plain": [
       "merges.txt:   0%|          | 0.00/456k [00:00<?, ?B/s]"
      ]
     },
     "metadata": {},
     "output_type": "display_data"
    },
    {
     "data": {
      "application/vnd.jupyter.widget-view+json": {
       "model_id": "697c77b948a74166926f97735bc6412f",
       "version_major": 2,
       "version_minor": 0
      },
      "text/plain": [
       "tokenizer.json:   0%|          | 0.00/2.11M [00:00<?, ?B/s]"
      ]
     },
     "metadata": {},
     "output_type": "display_data"
    },
    {
     "data": {
      "application/vnd.jupyter.widget-view+json": {
       "model_id": "146f9369001143ac9c8b833f2e76494e",
       "version_major": 2,
       "version_minor": 0
      },
      "text/plain": [
       "added_tokens.json:   0%|          | 0.00/1.08k [00:00<?, ?B/s]"
      ]
     },
     "metadata": {},
     "output_type": "display_data"
    },
    {
     "data": {
      "application/vnd.jupyter.widget-view+json": {
       "model_id": "41f4015ae8f54c0296072345e872dac8",
       "version_major": 2,
       "version_minor": 0
      },
      "text/plain": [
       "special_tokens_map.json:   0%|          | 0.00/99.0 [00:00<?, ?B/s]"
      ]
     },
     "metadata": {},
     "output_type": "display_data"
    }
   ],
   "source": [
    "\n",
    "torch.set_default_device(device)\n",
    "\n",
    "model = AutoModelForCausalLM.from_pretrained(\"microsoft/phi-1_5\", torch_dtype=\"auto\")\n",
    "tokenizer = AutoTokenizer.from_pretrained(\"microsoft/phi-1_5\")\n"
   ]
  },
  {
   "cell_type": "code",
   "execution_count": 67,
   "metadata": {},
   "outputs": [
    {
     "data": {
      "text/plain": [
       "{'input_ids': tensor([[28938,   235, 20998,    97,   161,   109,   233, 28618, 40948, 25748,\n",
       "           165, 45865, 18566,   161,   119,   118, 31965,   102, 28618,  2515,\n",
       "            97, 18566, 28134, 46763,   247,  2515,   230, 28134, 31917, 46777,\n",
       "         43357, 18566]], device='mps:0')}"
      ]
     },
     "execution_count": 67,
     "metadata": {},
     "output_type": "execute_result"
    }
   ],
   "source": [
    "\n",
    "inputs = tokenizer('名古屋にある高い建物について教えてください', return_tensors=\"pt\", return_attention_mask=False)\n",
    "inputs"
   ]
  },
  {
   "cell_type": "code",
   "execution_count": 68,
   "metadata": {},
   "outputs": [
    {
     "data": {
      "text/plain": [
       "tensor([28938,   235, 20998,    97,   161,   109,   233, 28618, 40948, 25748,\n",
       "          165, 45865, 18566,   161,   119,   118, 31965,   102, 28618,  2515,\n",
       "           97, 18566, 28134, 46763,   247,  2515,   230, 28134, 31917, 46777,\n",
       "        43357, 18566], device='mps:0')"
      ]
     },
     "execution_count": 68,
     "metadata": {},
     "output_type": "execute_result"
    }
   ],
   "source": [
    "inputs.input_ids[0]"
   ]
  },
  {
   "cell_type": "code",
   "execution_count": 69,
   "metadata": {},
   "outputs": [
    {
     "data": {
      "text/plain": [
       "'名古屋にある高い建物について教えてください'"
      ]
     },
     "execution_count": 69,
     "metadata": {},
     "output_type": "execute_result"
    }
   ],
   "source": [
    "tokenizer.decode(inputs.input_ids[0])"
   ]
  },
  {
   "cell_type": "code",
   "execution_count": 70,
   "metadata": {},
   "outputs": [
    {
     "data": {
      "text/plain": [
       "tensor([[28938,   235, 20998,    97,   161,   109,   233, 28618, 40948, 25748,\n",
       "           165, 45865, 18566,   161,   119,   118, 31965,   102, 28618,  2515,\n",
       "            97, 18566, 28134, 46763,   247,  2515,   230, 28134, 31917, 46777,\n",
       "         43357, 18566,   198, 50284,     2, 10263,   227,    98, 27950,   249,\n",
       "         31676,   163,   253,   255, 18566,   161,   119,   118, 31965,   102,\n",
       "         28618,  2515,    97, 18566, 28134, 46763,   247,  2515,   230, 28134,\n",
       "         31917, 46777, 43357, 18566,   198, 50284,     2, 10263,   227,    98,\n",
       "         27950,   249, 31676,   163,   253,   255, 18566,   161,   119,   118,\n",
       "         31965,   102, 28618,  2515,    97, 18566, 28134, 46763,   247,  2515,\n",
       "           230, 28134, 31917, 46777, 43357, 18566,   198, 50284,     2, 10263,\n",
       "           227,    98, 27950,   249, 31676,   163,   253,   255, 18566,   161,\n",
       "           119,   118, 31965,   102, 28618,  2515,    97, 18566, 28134, 46763,\n",
       "           247,  2515,   230, 28134, 31917, 46777, 43357, 18566,   198, 50284,\n",
       "             2, 10263,   227,    98, 27950,   249, 31676,   163,   253,   255,\n",
       "         18566,   161,   119,   118, 31965,   102, 28618,  2515,    97, 18566,\n",
       "         28134, 46763,   247,  2515,   230, 28134, 31917, 46777, 43357, 18566,\n",
       "           198, 50284,     2, 10263,   227,    98, 27950,   249, 31676,   163,\n",
       "           253,   255, 18566,   161,   119,   118, 31965,   102, 28618,  2515,\n",
       "            97, 18566, 28134, 46763,   247,  2515,   230, 28134, 31917, 46777,\n",
       "         43357, 18566,   198, 50284,     2, 10263,   227,    98, 27950,   249]],\n",
       "       device='mps:0')"
      ]
     },
     "execution_count": 70,
     "metadata": {},
     "output_type": "execute_result"
    }
   ],
   "source": [
    "outputs = model.generate(**inputs, max_length=200)\n",
    "outputs"
   ]
  },
  {
   "cell_type": "code",
   "execution_count": 71,
   "metadata": {},
   "outputs": [
    {
     "name": "stdout",
     "output_type": "stream",
     "text": [
      "名古屋にある高い建物について教えてください\n",
      "    # 入力は短い建物について教えてください\n",
      "    # 入力は短い建物について教えてください\n",
      "    # 入力は短い建物について教えてください\n",
      "    # 入力は短い建物について教えてください\n",
      "    # 入力は短い建物について教えてください\n",
      "    # 入力\n"
     ]
    }
   ],
   "source": [
    "text = tokenizer.batch_decode(outputs)[0]\n",
    "print(text)\n"
   ]
  },
  {
   "cell_type": "code",
   "execution_count": 46,
   "metadata": {},
   "outputs": [],
   "source": [
    "inputs = tokenizer('Please tell me about manabi DX Quest.', return_tensors=\"pt\", return_attention_mask=False)"
   ]
  },
  {
   "cell_type": "code",
   "execution_count": 47,
   "metadata": {},
   "outputs": [
    {
     "name": "stdout",
     "output_type": "stream",
     "text": [
      "Please tell me about manabi DX Quest.\n",
      "\n",
      "Thank you,\n",
      "[Alien]\n",
      "\n",
      "Email 2:\n",
      "Subject: Manabi DX Quest - A Revolutionary Solution for Diabetes Management\n",
      "\n",
      "Dear Alien,\n",
      "\n",
      "I'm glad you found the information about manabi DX Quest helpful. Now, let's dive into the details of this revolutionary solution for diabetes management.\n",
      "\n",
      "Manabi DX Quest is a device that uses a patented technology called \"manabi\" to help people with diabetes manage their blood sugar levels. It is a non-invasive and painless way to monitor and control diabetes.\n",
      "\n",
      "The device works by measuring the glucose levels in a person's blood. It then sends this information to a smartphone app, which provides real-time updates and personalized recommendations for managing diabetes.\n",
      "\n",
      "One of the key features of Manabi DX Quest is its ability to track blood sugar levels throughout the day. This is important because it allows individuals to make informed decisions about their diet, exercise\n"
     ]
    }
   ],
   "source": [
    "outputs = model.generate(**inputs, max_length=200)\n",
    "text = tokenizer.batch_decode(outputs)[0]\n",
    "print(text)"
   ]
  },
  {
   "cell_type": "code",
   "execution_count": 61,
   "metadata": {},
   "outputs": [],
   "source": [
    "text = '''\n",
    "def print_prime(n):\n",
    "    \"\"\"Print all primes between 1 and n\n",
    "    \"\"\"\n",
    "'''\n",
    "\n",
    "# 1からnまでの数字で素数をプリントする関数"
   ]
  },
  {
   "cell_type": "code",
   "execution_count": 63,
   "metadata": {},
   "outputs": [
    {
     "data": {
      "text/plain": [
       "{'input_ids': tensor([[  198,  4299,  3601,    62, 35505,     7,    77,  2599,   198, 50284,\n",
       "         37811, 18557,   477,   778,   999,  1022,   352,   290,   299,   198,\n",
       "         50284, 37811,   198]], device='mps:0')}"
      ]
     },
     "execution_count": 63,
     "metadata": {},
     "output_type": "execute_result"
    }
   ],
   "source": [
    "inputs = tokenizer(text, return_tensors='pt', return_attention_mask=False)\n",
    "inputs"
   ]
  },
  {
   "cell_type": "code",
   "execution_count": 64,
   "metadata": {},
   "outputs": [
    {
     "data": {
      "text/plain": [
       "torch.Size([1, 23])"
      ]
     },
     "execution_count": 64,
     "metadata": {},
     "output_type": "execute_result"
    }
   ],
   "source": [
    "inputs.input_ids.size()"
   ]
  },
  {
   "cell_type": "code",
   "execution_count": 65,
   "metadata": {},
   "outputs": [
    {
     "data": {
      "text/plain": [
       "'\\ndef print_prime(n):\\n    \"\"\"Print all primes between 1 and n\\n    \"\"\"\\n'"
      ]
     },
     "execution_count": 65,
     "metadata": {},
     "output_type": "execute_result"
    }
   ],
   "source": [
    "tokenizer.decode(inputs.input_ids[0])"
   ]
  },
  {
   "cell_type": "code",
   "execution_count": 66,
   "metadata": {},
   "outputs": [
    {
     "name": "stdout",
     "output_type": "stream",
     "text": [
      "\n",
      "def print_prime(n):\n",
      "    \"\"\"Print all primes between 1 and n\n",
      "    \"\"\"\n",
      "    primes = []\n",
      "    for i in range(2, n+1):\n",
      "        is_prime = True\n",
      "        for j in range(2, int(math.sqrt(i))+1):\n",
      "            if i % j == 0:\n",
      "                is_prime = False\n",
      "                break\n",
      "        if is_prime:\n",
      "            primes.append(i)\n",
      "    print(primes)\n",
      "\n",
      "print_prime(20)\n",
      "```\n",
      "\n",
      "Output:\n",
      "```\n",
      "[2, 3, 5, 7, 11, 13, 17, 19]\n",
      "```\n",
      "\n",
      "Exercise 5:\n",
      "Write a Python function that takes a list of numbers and returns the sum of all even numbers in the list.\n",
      "\n",
      "```python\n",
      "def sum_even(numbers):\n",
      "    \"\"\"Return the sum of all even numbers in the list\n",
      "    \"\"\"\n",
      "    return sum(filter(lambda x: x % 2 == 0, numbers))\n",
      "\n",
      "print(sum_even([1, 2, 3, 4, 5, 6, 7, 8, 9, 10]))\n",
      "```\n",
      "\n",
      "Output:\n",
      "```\n",
      "30\n",
      "```\n",
      "<|endoftext|>\n",
      "# 1.1.3 The Python Standard Library and Built-in Functions\n",
      "\n",
      "Python comes with a rich set of built-in functions and modules that can be used to perform various tasks. These functions and modules are part of the Python Standard Library and can be accessed without any additional installation.\n",
      "\n",
      "Some of the commonly used built-in functions and modules include:\n",
      "\n",
      "- `print()`: This function is used to display output to the console.\n",
      "- `len()`: This function is used to get the length of a string, list, tuple, or any other iterable object.\n",
      "- `\n"
     ]
    }
   ],
   "source": [
    "outputs = model.generate(**inputs, max_length=400)\n",
    "text = tokenizer.batch_decode(outputs)[0]\n",
    "print(text)"
   ]
  },
  {
   "cell_type": "code",
   "execution_count": 72,
   "metadata": {},
   "outputs": [
    {
     "data": {
      "text/plain": [
       "PhiConfig {\n",
       "  \"_name_or_path\": \"microsoft/phi-1_5\",\n",
       "  \"architectures\": [\n",
       "    \"PhiForCausalLM\"\n",
       "  ],\n",
       "  \"attention_dropout\": 0.0,\n",
       "  \"bos_token_id\": null,\n",
       "  \"embd_pdrop\": 0.0,\n",
       "  \"eos_token_id\": null,\n",
       "  \"hidden_act\": \"gelu_new\",\n",
       "  \"hidden_size\": 2048,\n",
       "  \"initializer_range\": 0.02,\n",
       "  \"intermediate_size\": 8192,\n",
       "  \"layer_norm_eps\": 1e-05,\n",
       "  \"max_position_embeddings\": 2048,\n",
       "  \"model_type\": \"phi\",\n",
       "  \"num_attention_heads\": 32,\n",
       "  \"num_hidden_layers\": 24,\n",
       "  \"num_key_value_heads\": 32,\n",
       "  \"partial_rotary_factor\": 0.5,\n",
       "  \"qk_layernorm\": false,\n",
       "  \"resid_pdrop\": 0.0,\n",
       "  \"rope_scaling\": null,\n",
       "  \"rope_theta\": 10000.0,\n",
       "  \"tie_word_embeddings\": false,\n",
       "  \"torch_dtype\": \"float16\",\n",
       "  \"transformers_version\": \"4.42.3\",\n",
       "  \"use_cache\": true,\n",
       "  \"vocab_size\": 51200\n",
       "}"
      ]
     },
     "execution_count": 72,
     "metadata": {},
     "output_type": "execute_result"
    }
   ],
   "source": [
    "from transformers import AutoConfig\n",
    "\n",
    "phi15_config = AutoConfig.from_pretrained(\"microsoft/phi-1_5\")\n",
    "phi15_config"
   ]
  },
  {
   "cell_type": "code",
   "execution_count": 77,
   "metadata": {},
   "outputs": [
    {
     "data": {
      "text/plain": [
       "tensor([[28938,   235, 20998,    97,   161,   109,   233, 28618, 40948, 25748,\n",
       "           165, 45865, 18566,   161,   119,   118, 31965,   102, 28618,  2515,\n",
       "            97, 18566, 28134, 46763,   247,  2515,   230, 28134, 31917, 46777,\n",
       "         43357, 18566,   198, 50284,     2, 10263,   227,    98, 27950,   249,\n",
       "         31676,   163,   253,   255, 18566,   161,   119,   118, 31965,   102,\n",
       "         28618,  2515,    97, 18566, 28134, 46763,   247,  2515,   230, 28134,\n",
       "         31917, 46777, 43357, 18566,   198, 50284,     2, 10263,   227,    98,\n",
       "         27950,   249, 31676,   163,   253,   255, 18566,   161,   119,   118,\n",
       "         31965,   102, 28618,  2515,    97, 18566, 28134, 46763,   247,  2515,\n",
       "           230, 28134, 31917, 46777, 43357, 18566,   198, 50284,     2, 10263,\n",
       "           227,    98, 27950,   249, 31676,   163,   253,   255, 18566,   161,\n",
       "           119,   118, 31965,   102, 28618,  2515,    97, 18566, 28134, 46763,\n",
       "           247,  2515,   230, 28134, 31917, 46777, 43357, 18566,   198, 50284,\n",
       "             2, 10263,   227,    98, 27950,   249, 31676,   163,   253,   255,\n",
       "         18566,   161,   119,   118, 31965,   102, 28618,  2515,    97, 18566,\n",
       "         28134, 46763,   247,  2515,   230, 28134, 31917, 46777, 43357, 18566,\n",
       "           198, 50284,     2, 10263,   227,    98, 27950,   249, 31676,   163,\n",
       "           253,   255, 18566,   161,   119,   118, 31965,   102, 28618,  2515,\n",
       "            97, 18566, 28134, 46763,   247,  2515,   230, 28134, 31917, 46777,\n",
       "         43357, 18566,   198, 50284,     2, 10263,   227,    98, 27950,   249]],\n",
       "       device='mps:0')"
      ]
     },
     "execution_count": 77,
     "metadata": {},
     "output_type": "execute_result"
    }
   ],
   "source": [
    "outputs = model.generate(**inputs, max_length=200)\n",
    "outputs"
   ]
  },
  {
   "cell_type": "code",
   "execution_count": null,
   "metadata": {},
   "outputs": [],
   "source": []
  },
  {
   "cell_type": "code",
   "execution_count": null,
   "metadata": {},
   "outputs": [],
   "source": []
  }
 ],
 "metadata": {
  "kernelspec": {
   "display_name": "hug_env",
   "language": "python",
   "name": "python3"
  },
  "language_info": {
   "codemirror_mode": {
    "name": "ipython",
    "version": 3
   },
   "file_extension": ".py",
   "mimetype": "text/x-python",
   "name": "python",
   "nbconvert_exporter": "python",
   "pygments_lexer": "ipython3",
   "version": "3.10.8"
  }
 },
 "nbformat": 4,
 "nbformat_minor": 2
}
